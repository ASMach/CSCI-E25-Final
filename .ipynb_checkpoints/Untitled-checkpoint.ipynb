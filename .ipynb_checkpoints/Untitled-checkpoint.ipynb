{
 "cells": [
  {
   "cell_type": "markdown",
   "id": "04544c90",
   "metadata": {},
   "source": [
    "# CSCI E-25      \n",
    "## Independent Project - Fashion Classifier\n",
    "### Alonzo Machiraju"
   ]
  },
  {
   "cell_type": "markdown",
   "id": "636f501d",
   "metadata": {},
   "source": [
    "## Introduction   \n",
    "\n",
    "This project aims to classify photos of pieces of clothing and analyze their colors, patterns and textures.\n",
    "\n",
    "The first stage requires importing all relevant packages"
   ]
  },
  {
   "cell_type": "code",
   "execution_count": null,
   "id": "56df8bfe",
   "metadata": {},
   "outputs": [],
   "source": [
    "import skimage \n",
    "from skimage import data\n",
    "from skimage.filters.rank import equalize\n",
    "import skimage.filters as skfilters\n",
    "import skimage.morphology as morphology\n",
    "import skimage.transform as transform\n",
    "from skimage.color import rgb2gray\n",
    "from skimage import exposure\n",
    "from skimage.draw import circle_perimeter, polygon_perimeter\n",
    "from PIL import Image\n",
    "import numpy as np\n",
    "import math\n",
    "import matplotlib.pyplot as plt\n",
    "%matplotlib inline"
   ]
  }
 ],
 "metadata": {
  "kernelspec": {
   "display_name": "Python 3 (ipykernel)",
   "language": "python",
   "name": "python3"
  },
  "language_info": {
   "codemirror_mode": {
    "name": "ipython",
    "version": 3
   },
   "file_extension": ".py",
   "mimetype": "text/x-python",
   "name": "python",
   "nbconvert_exporter": "python",
   "pygments_lexer": "ipython3",
   "version": "3.11.5"
  }
 },
 "nbformat": 4,
 "nbformat_minor": 5
}
